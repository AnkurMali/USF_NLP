{
  "nbformat": 4,
  "nbformat_minor": 0,
  "metadata": {
    "colab": {
      "provenance": []
    },
    "kernelspec": {
      "name": "python3",
      "display_name": "Python 3"
    },
    "language_info": {
      "name": "python"
    },
    "widgets": {
      "application/vnd.jupyter.widget-state+json": {
        "6bbcb3a6988f44cb8ea1d419173849c3": {
          "model_module": "@jupyter-widgets/controls",
          "model_name": "VBoxModel",
          "model_module_version": "1.5.0",
          "state": {
            "_dom_classes": [
              "widget-interact"
            ],
            "_model_module": "@jupyter-widgets/controls",
            "_model_module_version": "1.5.0",
            "_model_name": "VBoxModel",
            "_view_count": null,
            "_view_module": "@jupyter-widgets/controls",
            "_view_module_version": "1.5.0",
            "_view_name": "VBoxView",
            "box_style": "",
            "children": [
              "IPY_MODEL_b1466b35709946eaba5a5af4831829ab",
              "IPY_MODEL_0201ca3ab0aa41109ff1d6f89d3f9840",
              "IPY_MODEL_2b3c65004ef14360bb82f876af9d6052"
            ],
            "layout": "IPY_MODEL_8db7525484f847e2924d51058fdece27"
          }
        },
        "b1466b35709946eaba5a5af4831829ab": {
          "model_module": "@jupyter-widgets/controls",
          "model_name": "FloatSliderModel",
          "model_module_version": "1.5.0",
          "state": {
            "_dom_classes": [],
            "_model_module": "@jupyter-widgets/controls",
            "_model_module_version": "1.5.0",
            "_model_name": "FloatSliderModel",
            "_view_count": null,
            "_view_module": "@jupyter-widgets/controls",
            "_view_module_version": "1.5.0",
            "_view_name": "FloatSliderView",
            "continuous_update": true,
            "description": "s1",
            "description_tooltip": null,
            "disabled": false,
            "layout": "IPY_MODEL_640806760bac446f85d1cd9ea1371c5b",
            "max": 2,
            "min": -2,
            "orientation": "horizontal",
            "readout": true,
            "readout_format": ".2f",
            "step": 0.1,
            "style": "IPY_MODEL_2ea375307bd244c7ad8cc56004871875",
            "value": 1.6
          }
        },
        "0201ca3ab0aa41109ff1d6f89d3f9840": {
          "model_module": "@jupyter-widgets/controls",
          "model_name": "FloatSliderModel",
          "model_module_version": "1.5.0",
          "state": {
            "_dom_classes": [],
            "_model_module": "@jupyter-widgets/controls",
            "_model_module_version": "1.5.0",
            "_model_name": "FloatSliderModel",
            "_view_count": null,
            "_view_module": "@jupyter-widgets/controls",
            "_view_module_version": "1.5.0",
            "_view_name": "FloatSliderView",
            "continuous_update": true,
            "description": "s2",
            "description_tooltip": null,
            "disabled": false,
            "layout": "IPY_MODEL_9fa09822a1d746579ebb2fab02c499b0",
            "max": 2,
            "min": -2,
            "orientation": "horizontal",
            "readout": true,
            "readout_format": ".2f",
            "step": 0.1,
            "style": "IPY_MODEL_e5c702a5dfba49f6a9aff05cabf560b9",
            "value": -0.6
          }
        },
        "2b3c65004ef14360bb82f876af9d6052": {
          "model_module": "@jupyter-widgets/output",
          "model_name": "OutputModel",
          "model_module_version": "1.0.0",
          "state": {
            "_dom_classes": [],
            "_model_module": "@jupyter-widgets/output",
            "_model_module_version": "1.0.0",
            "_model_name": "OutputModel",
            "_view_count": null,
            "_view_module": "@jupyter-widgets/output",
            "_view_module_version": "1.0.0",
            "_view_name": "OutputView",
            "layout": "IPY_MODEL_81851102143f406188709af7497586ba",
            "msg_id": "",
            "outputs": [
              {
                "output_type": "display_data",
                "data": {
                  "text/plain": "<Figure size 600x200 with 2 Axes>",
                  "image/png": "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\n"
                },
                "metadata": {}
              },
              {
                "output_type": "stream",
                "name": "stdout",
                "text": [
                  "Context Vector: [1.51105719 1.24563453]\n"
                ]
              }
            ]
          }
        },
        "8db7525484f847e2924d51058fdece27": {
          "model_module": "@jupyter-widgets/base",
          "model_name": "LayoutModel",
          "model_module_version": "1.2.0",
          "state": {
            "_model_module": "@jupyter-widgets/base",
            "_model_module_version": "1.2.0",
            "_model_name": "LayoutModel",
            "_view_count": null,
            "_view_module": "@jupyter-widgets/base",
            "_view_module_version": "1.2.0",
            "_view_name": "LayoutView",
            "align_content": null,
            "align_items": null,
            "align_self": null,
            "border": null,
            "bottom": null,
            "display": null,
            "flex": null,
            "flex_flow": null,
            "grid_area": null,
            "grid_auto_columns": null,
            "grid_auto_flow": null,
            "grid_auto_rows": null,
            "grid_column": null,
            "grid_gap": null,
            "grid_row": null,
            "grid_template_areas": null,
            "grid_template_columns": null,
            "grid_template_rows": null,
            "height": null,
            "justify_content": null,
            "justify_items": null,
            "left": null,
            "margin": null,
            "max_height": null,
            "max_width": null,
            "min_height": null,
            "min_width": null,
            "object_fit": null,
            "object_position": null,
            "order": null,
            "overflow": null,
            "overflow_x": null,
            "overflow_y": null,
            "padding": null,
            "right": null,
            "top": null,
            "visibility": null,
            "width": null
          }
        },
        "640806760bac446f85d1cd9ea1371c5b": {
          "model_module": "@jupyter-widgets/base",
          "model_name": "LayoutModel",
          "model_module_version": "1.2.0",
          "state": {
            "_model_module": "@jupyter-widgets/base",
            "_model_module_version": "1.2.0",
            "_model_name": "LayoutModel",
            "_view_count": null,
            "_view_module": "@jupyter-widgets/base",
            "_view_module_version": "1.2.0",
            "_view_name": "LayoutView",
            "align_content": null,
            "align_items": null,
            "align_self": null,
            "border": null,
            "bottom": null,
            "display": null,
            "flex": null,
            "flex_flow": null,
            "grid_area": null,
            "grid_auto_columns": null,
            "grid_auto_flow": null,
            "grid_auto_rows": null,
            "grid_column": null,
            "grid_gap": null,
            "grid_row": null,
            "grid_template_areas": null,
            "grid_template_columns": null,
            "grid_template_rows": null,
            "height": null,
            "justify_content": null,
            "justify_items": null,
            "left": null,
            "margin": null,
            "max_height": null,
            "max_width": null,
            "min_height": null,
            "min_width": null,
            "object_fit": null,
            "object_position": null,
            "order": null,
            "overflow": null,
            "overflow_x": null,
            "overflow_y": null,
            "padding": null,
            "right": null,
            "top": null,
            "visibility": null,
            "width": null
          }
        },
        "2ea375307bd244c7ad8cc56004871875": {
          "model_module": "@jupyter-widgets/controls",
          "model_name": "SliderStyleModel",
          "model_module_version": "1.5.0",
          "state": {
            "_model_module": "@jupyter-widgets/controls",
            "_model_module_version": "1.5.0",
            "_model_name": "SliderStyleModel",
            "_view_count": null,
            "_view_module": "@jupyter-widgets/base",
            "_view_module_version": "1.2.0",
            "_view_name": "StyleView",
            "description_width": "",
            "handle_color": null
          }
        },
        "9fa09822a1d746579ebb2fab02c499b0": {
          "model_module": "@jupyter-widgets/base",
          "model_name": "LayoutModel",
          "model_module_version": "1.2.0",
          "state": {
            "_model_module": "@jupyter-widgets/base",
            "_model_module_version": "1.2.0",
            "_model_name": "LayoutModel",
            "_view_count": null,
            "_view_module": "@jupyter-widgets/base",
            "_view_module_version": "1.2.0",
            "_view_name": "LayoutView",
            "align_content": null,
            "align_items": null,
            "align_self": null,
            "border": null,
            "bottom": null,
            "display": null,
            "flex": null,
            "flex_flow": null,
            "grid_area": null,
            "grid_auto_columns": null,
            "grid_auto_flow": null,
            "grid_auto_rows": null,
            "grid_column": null,
            "grid_gap": null,
            "grid_row": null,
            "grid_template_areas": null,
            "grid_template_columns": null,
            "grid_template_rows": null,
            "height": null,
            "justify_content": null,
            "justify_items": null,
            "left": null,
            "margin": null,
            "max_height": null,
            "max_width": null,
            "min_height": null,
            "min_width": null,
            "object_fit": null,
            "object_position": null,
            "order": null,
            "overflow": null,
            "overflow_x": null,
            "overflow_y": null,
            "padding": null,
            "right": null,
            "top": null,
            "visibility": null,
            "width": null
          }
        },
        "e5c702a5dfba49f6a9aff05cabf560b9": {
          "model_module": "@jupyter-widgets/controls",
          "model_name": "SliderStyleModel",
          "model_module_version": "1.5.0",
          "state": {
            "_model_module": "@jupyter-widgets/controls",
            "_model_module_version": "1.5.0",
            "_model_name": "SliderStyleModel",
            "_view_count": null,
            "_view_module": "@jupyter-widgets/base",
            "_view_module_version": "1.2.0",
            "_view_name": "StyleView",
            "description_width": "",
            "handle_color": null
          }
        },
        "81851102143f406188709af7497586ba": {
          "model_module": "@jupyter-widgets/base",
          "model_name": "LayoutModel",
          "model_module_version": "1.2.0",
          "state": {
            "_model_module": "@jupyter-widgets/base",
            "_model_module_version": "1.2.0",
            "_model_name": "LayoutModel",
            "_view_count": null,
            "_view_module": "@jupyter-widgets/base",
            "_view_module_version": "1.2.0",
            "_view_name": "LayoutView",
            "align_content": null,
            "align_items": null,
            "align_self": null,
            "border": null,
            "bottom": null,
            "display": null,
            "flex": null,
            "flex_flow": null,
            "grid_area": null,
            "grid_auto_columns": null,
            "grid_auto_flow": null,
            "grid_auto_rows": null,
            "grid_column": null,
            "grid_gap": null,
            "grid_row": null,
            "grid_template_areas": null,
            "grid_template_columns": null,
            "grid_template_rows": null,
            "height": null,
            "justify_content": null,
            "justify_items": null,
            "left": null,
            "margin": null,
            "max_height": null,
            "max_width": null,
            "min_height": null,
            "min_width": null,
            "object_fit": null,
            "object_position": null,
            "order": null,
            "overflow": null,
            "overflow_x": null,
            "overflow_y": null,
            "padding": null,
            "right": null,
            "top": null,
            "visibility": null,
            "width": null
          }
        },
        "fa10645a655a41fa8592476e463f03b0": {
          "model_module": "@jupyter-widgets/controls",
          "model_name": "VBoxModel",
          "model_module_version": "1.5.0",
          "state": {
            "_dom_classes": [
              "widget-interact"
            ],
            "_model_module": "@jupyter-widgets/controls",
            "_model_module_version": "1.5.0",
            "_model_name": "VBoxModel",
            "_view_count": null,
            "_view_module": "@jupyter-widgets/controls",
            "_view_module_version": "1.5.0",
            "_view_name": "VBoxView",
            "box_style": "",
            "children": [
              "IPY_MODEL_8fd781028f5f402bace0125214515828",
              "IPY_MODEL_383f3aafe9844e598d98b1df884cc44d",
              "IPY_MODEL_281b3cd9a76444bf80fd319f3fb4f2f1",
              "IPY_MODEL_a9a242caf4bf49788b3cd5cccb1839f1"
            ],
            "layout": "IPY_MODEL_fb5faa9f77bc4d3ba9b9ab73724d693c"
          }
        },
        "8fd781028f5f402bace0125214515828": {
          "model_module": "@jupyter-widgets/controls",
          "model_name": "FloatSliderModel",
          "model_module_version": "1.5.0",
          "state": {
            "_dom_classes": [],
            "_model_module": "@jupyter-widgets/controls",
            "_model_module_version": "1.5.0",
            "_model_name": "FloatSliderModel",
            "_view_count": null,
            "_view_module": "@jupyter-widgets/controls",
            "_view_module_version": "1.5.0",
            "_view_name": "FloatSliderView",
            "continuous_update": true,
            "description": "s1",
            "description_tooltip": null,
            "disabled": false,
            "layout": "IPY_MODEL_c261541a39d64d3ba0609444f2d52d48",
            "max": 2,
            "min": -2,
            "orientation": "horizontal",
            "readout": true,
            "readout_format": ".2f",
            "step": 0.1,
            "style": "IPY_MODEL_fa69ed43aa814be5bda30a1c0993c303",
            "value": 1.9
          }
        },
        "383f3aafe9844e598d98b1df884cc44d": {
          "model_module": "@jupyter-widgets/controls",
          "model_name": "FloatSliderModel",
          "model_module_version": "1.5.0",
          "state": {
            "_dom_classes": [],
            "_model_module": "@jupyter-widgets/controls",
            "_model_module_version": "1.5.0",
            "_model_name": "FloatSliderModel",
            "_view_count": null,
            "_view_module": "@jupyter-widgets/controls",
            "_view_module_version": "1.5.0",
            "_view_name": "FloatSliderView",
            "continuous_update": true,
            "description": "s2",
            "description_tooltip": null,
            "disabled": false,
            "layout": "IPY_MODEL_13947f56af5e41e2af7fbc17ad5ef2e8",
            "max": 2,
            "min": -2,
            "orientation": "horizontal",
            "readout": true,
            "readout_format": ".2f",
            "step": 0.1,
            "style": "IPY_MODEL_20078d21330c47cc928f9812be9b18bf",
            "value": 2
          }
        },
        "281b3cd9a76444bf80fd319f3fb4f2f1": {
          "model_module": "@jupyter-widgets/controls",
          "model_name": "DropdownModel",
          "model_module_version": "1.5.0",
          "state": {
            "_dom_classes": [],
            "_model_module": "@jupyter-widgets/controls",
            "_model_module_version": "1.5.0",
            "_model_name": "DropdownModel",
            "_options_labels": [
              "Soft",
              "Dot Product",
              "Hard"
            ],
            "_view_count": null,
            "_view_module": "@jupyter-widgets/controls",
            "_view_module_version": "1.5.0",
            "_view_name": "DropdownView",
            "description": "attention_type",
            "description_tooltip": null,
            "disabled": false,
            "index": 0,
            "layout": "IPY_MODEL_51e4220bf80c432bb4fc17f9f1820bb5",
            "style": "IPY_MODEL_a1b1a49b8ba844d9a967430e93c019bc"
          }
        },
        "a9a242caf4bf49788b3cd5cccb1839f1": {
          "model_module": "@jupyter-widgets/output",
          "model_name": "OutputModel",
          "model_module_version": "1.0.0",
          "state": {
            "_dom_classes": [],
            "_model_module": "@jupyter-widgets/output",
            "_model_module_version": "1.0.0",
            "_model_name": "OutputModel",
            "_view_count": null,
            "_view_module": "@jupyter-widgets/output",
            "_view_module_version": "1.0.0",
            "_view_name": "OutputView",
            "layout": "IPY_MODEL_45a3fd9928e0461694bcb9eda7b98795",
            "msg_id": "",
            "outputs": [
              {
                "output_type": "display_data",
                "data": {
                  "text/plain": "<Figure size 600x200 with 2 Axes>",
                  "image/png": "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\n"
                },
                "metadata": {}
              },
              {
                "output_type": "stream",
                "name": "stdout",
                "text": [
                  "Context Vector (c_t): [1.33418379 1.3324506 ]\n"
                ]
              }
            ]
          }
        },
        "fb5faa9f77bc4d3ba9b9ab73724d693c": {
          "model_module": "@jupyter-widgets/base",
          "model_name": "LayoutModel",
          "model_module_version": "1.2.0",
          "state": {
            "_model_module": "@jupyter-widgets/base",
            "_model_module_version": "1.2.0",
            "_model_name": "LayoutModel",
            "_view_count": null,
            "_view_module": "@jupyter-widgets/base",
            "_view_module_version": "1.2.0",
            "_view_name": "LayoutView",
            "align_content": null,
            "align_items": null,
            "align_self": null,
            "border": null,
            "bottom": null,
            "display": null,
            "flex": null,
            "flex_flow": null,
            "grid_area": null,
            "grid_auto_columns": null,
            "grid_auto_flow": null,
            "grid_auto_rows": null,
            "grid_column": null,
            "grid_gap": null,
            "grid_row": null,
            "grid_template_areas": null,
            "grid_template_columns": null,
            "grid_template_rows": null,
            "height": null,
            "justify_content": null,
            "justify_items": null,
            "left": null,
            "margin": null,
            "max_height": null,
            "max_width": null,
            "min_height": null,
            "min_width": null,
            "object_fit": null,
            "object_position": null,
            "order": null,
            "overflow": null,
            "overflow_x": null,
            "overflow_y": null,
            "padding": null,
            "right": null,
            "top": null,
            "visibility": null,
            "width": null
          }
        },
        "c261541a39d64d3ba0609444f2d52d48": {
          "model_module": "@jupyter-widgets/base",
          "model_name": "LayoutModel",
          "model_module_version": "1.2.0",
          "state": {
            "_model_module": "@jupyter-widgets/base",
            "_model_module_version": "1.2.0",
            "_model_name": "LayoutModel",
            "_view_count": null,
            "_view_module": "@jupyter-widgets/base",
            "_view_module_version": "1.2.0",
            "_view_name": "LayoutView",
            "align_content": null,
            "align_items": null,
            "align_self": null,
            "border": null,
            "bottom": null,
            "display": null,
            "flex": null,
            "flex_flow": null,
            "grid_area": null,
            "grid_auto_columns": null,
            "grid_auto_flow": null,
            "grid_auto_rows": null,
            "grid_column": null,
            "grid_gap": null,
            "grid_row": null,
            "grid_template_areas": null,
            "grid_template_columns": null,
            "grid_template_rows": null,
            "height": null,
            "justify_content": null,
            "justify_items": null,
            "left": null,
            "margin": null,
            "max_height": null,
            "max_width": null,
            "min_height": null,
            "min_width": null,
            "object_fit": null,
            "object_position": null,
            "order": null,
            "overflow": null,
            "overflow_x": null,
            "overflow_y": null,
            "padding": null,
            "right": null,
            "top": null,
            "visibility": null,
            "width": null
          }
        },
        "fa69ed43aa814be5bda30a1c0993c303": {
          "model_module": "@jupyter-widgets/controls",
          "model_name": "SliderStyleModel",
          "model_module_version": "1.5.0",
          "state": {
            "_model_module": "@jupyter-widgets/controls",
            "_model_module_version": "1.5.0",
            "_model_name": "SliderStyleModel",
            "_view_count": null,
            "_view_module": "@jupyter-widgets/base",
            "_view_module_version": "1.2.0",
            "_view_name": "StyleView",
            "description_width": "",
            "handle_color": null
          }
        },
        "13947f56af5e41e2af7fbc17ad5ef2e8": {
          "model_module": "@jupyter-widgets/base",
          "model_name": "LayoutModel",
          "model_module_version": "1.2.0",
          "state": {
            "_model_module": "@jupyter-widgets/base",
            "_model_module_version": "1.2.0",
            "_model_name": "LayoutModel",
            "_view_count": null,
            "_view_module": "@jupyter-widgets/base",
            "_view_module_version": "1.2.0",
            "_view_name": "LayoutView",
            "align_content": null,
            "align_items": null,
            "align_self": null,
            "border": null,
            "bottom": null,
            "display": null,
            "flex": null,
            "flex_flow": null,
            "grid_area": null,
            "grid_auto_columns": null,
            "grid_auto_flow": null,
            "grid_auto_rows": null,
            "grid_column": null,
            "grid_gap": null,
            "grid_row": null,
            "grid_template_areas": null,
            "grid_template_columns": null,
            "grid_template_rows": null,
            "height": null,
            "justify_content": null,
            "justify_items": null,
            "left": null,
            "margin": null,
            "max_height": null,
            "max_width": null,
            "min_height": null,
            "min_width": null,
            "object_fit": null,
            "object_position": null,
            "order": null,
            "overflow": null,
            "overflow_x": null,
            "overflow_y": null,
            "padding": null,
            "right": null,
            "top": null,
            "visibility": null,
            "width": null
          }
        },
        "20078d21330c47cc928f9812be9b18bf": {
          "model_module": "@jupyter-widgets/controls",
          "model_name": "SliderStyleModel",
          "model_module_version": "1.5.0",
          "state": {
            "_model_module": "@jupyter-widgets/controls",
            "_model_module_version": "1.5.0",
            "_model_name": "SliderStyleModel",
            "_view_count": null,
            "_view_module": "@jupyter-widgets/base",
            "_view_module_version": "1.2.0",
            "_view_name": "StyleView",
            "description_width": "",
            "handle_color": null
          }
        },
        "51e4220bf80c432bb4fc17f9f1820bb5": {
          "model_module": "@jupyter-widgets/base",
          "model_name": "LayoutModel",
          "model_module_version": "1.2.0",
          "state": {
            "_model_module": "@jupyter-widgets/base",
            "_model_module_version": "1.2.0",
            "_model_name": "LayoutModel",
            "_view_count": null,
            "_view_module": "@jupyter-widgets/base",
            "_view_module_version": "1.2.0",
            "_view_name": "LayoutView",
            "align_content": null,
            "align_items": null,
            "align_self": null,
            "border": null,
            "bottom": null,
            "display": null,
            "flex": null,
            "flex_flow": null,
            "grid_area": null,
            "grid_auto_columns": null,
            "grid_auto_flow": null,
            "grid_auto_rows": null,
            "grid_column": null,
            "grid_gap": null,
            "grid_row": null,
            "grid_template_areas": null,
            "grid_template_columns": null,
            "grid_template_rows": null,
            "height": null,
            "justify_content": null,
            "justify_items": null,
            "left": null,
            "margin": null,
            "max_height": null,
            "max_width": null,
            "min_height": null,
            "min_width": null,
            "object_fit": null,
            "object_position": null,
            "order": null,
            "overflow": null,
            "overflow_x": null,
            "overflow_y": null,
            "padding": null,
            "right": null,
            "top": null,
            "visibility": null,
            "width": null
          }
        },
        "a1b1a49b8ba844d9a967430e93c019bc": {
          "model_module": "@jupyter-widgets/controls",
          "model_name": "DescriptionStyleModel",
          "model_module_version": "1.5.0",
          "state": {
            "_model_module": "@jupyter-widgets/controls",
            "_model_module_version": "1.5.0",
            "_model_name": "DescriptionStyleModel",
            "_view_count": null,
            "_view_module": "@jupyter-widgets/base",
            "_view_module_version": "1.2.0",
            "_view_name": "StyleView",
            "description_width": ""
          }
        },
        "45a3fd9928e0461694bcb9eda7b98795": {
          "model_module": "@jupyter-widgets/base",
          "model_name": "LayoutModel",
          "model_module_version": "1.2.0",
          "state": {
            "_model_module": "@jupyter-widgets/base",
            "_model_module_version": "1.2.0",
            "_model_name": "LayoutModel",
            "_view_count": null,
            "_view_module": "@jupyter-widgets/base",
            "_view_module_version": "1.2.0",
            "_view_name": "LayoutView",
            "align_content": null,
            "align_items": null,
            "align_self": null,
            "border": null,
            "bottom": null,
            "display": null,
            "flex": null,
            "flex_flow": null,
            "grid_area": null,
            "grid_auto_columns": null,
            "grid_auto_flow": null,
            "grid_auto_rows": null,
            "grid_column": null,
            "grid_gap": null,
            "grid_row": null,
            "grid_template_areas": null,
            "grid_template_columns": null,
            "grid_template_rows": null,
            "height": null,
            "justify_content": null,
            "justify_items": null,
            "left": null,
            "margin": null,
            "max_height": null,
            "max_width": null,
            "min_height": null,
            "min_width": null,
            "object_fit": null,
            "object_position": null,
            "order": null,
            "overflow": null,
            "overflow_x": null,
            "overflow_y": null,
            "padding": null,
            "right": null,
            "top": null,
            "visibility": null,
            "width": null
          }
        }
      }
    }
  },
  "cells": [
    {
      "cell_type": "markdown",
      "source": [
        "# 🎯 Understanding Attention Mechanisms with Visualization -- University of South Florida NLP Spring 2025\n",
        "# Dr. Ankur Mali\n",
        "In this tutorial, we will explore how attention mechanisms work in sequence models like encoder-decoder architectures -- Refer to slides for detailed description .\n",
        "\n",
        "We will:\n",
        "- Compute attention scores and weights.\n",
        "- Visualize attention distributions.\n",
        "- Understand how the model “attends” to different inputs.\n"
      ],
      "metadata": {
        "id": "n8KD7w2kav1r"
      }
    },
    {
      "cell_type": "markdown",
      "source": [
        "## 🔶 Soft Attention (Bahdanau Style)\n",
        "\n",
        "Given encoder hidden states \\( h_1, $\\dots$, h_n \\) and decoder state \\( s_t \\), the attention mechanism computes:\n",
        "\n",
        "\\[\n",
        "$e_{ti}$ = $v_a^\\top \\tanh(W_1 h_i^\\top + W_2 s_t^\\top)\n",
        "\\quad\\quad\n",
        "\\alpha_{ti} = \\frac{\\exp(e_{ti})}{\\sum_j \\exp(e_{tj})}\n",
        "\\quad\\quad\n",
        "c_t = \\sum_i \\alpha_{ti} h_i\n",
        "$\\]\n"
      ],
      "metadata": {
        "id": "e36xS-Dca0Vk"
      }
    },
    {
      "cell_type": "code",
      "execution_count": 1,
      "metadata": {
        "colab": {
          "base_uri": "https://localhost:8080/",
          "height": 274
        },
        "id": "vuBakfiaatSC",
        "outputId": "cd162720-39bd-4414-cb29-95bd932b2439"
      },
      "outputs": [
        {
          "output_type": "display_data",
          "data": {
            "text/plain": [
              "<Figure size 600x200 with 2 Axes>"
            ],
            "image/png": "[encoded data removed]"
          },
          "metadata": {}
        },
        {
          "output_type": "stream",
          "name": "stdout",
          "text": [
            "Context Vector c_t: [1.45238856 1.3322346 ]\n"
          ]
        }
      ],
      "source": [
        "import numpy as np\n",
        "import matplotlib.pyplot as plt\n",
        "import seaborn as sns\n",
        "\n",
        "# Simulated encoder hidden states (3 time steps, 2-dimensional)\n",
        "H = np.array([\n",
        "    [1, 2],\n",
        "    [0, 1],\n",
        "    [3, 1]\n",
        "])\n",
        "\n",
        "s_t = np.array([0.5, 0.5])\n",
        "\n",
        "W1 = np.array([[1, 0], [0, 1]])\n",
        "W2 = np.array([[1, 1], [0, 1]])\n",
        "v_a = np.array([1, -1])\n",
        "\n",
        "# Compute attention scores\n",
        "def compute_attention_scores(H, s_t, W1, W2, v_a):\n",
        "    scores = []\n",
        "    for h_i in H:\n",
        "        z = np.tanh(W1 @ h_i + W2 @ s_t)\n",
        "        score = v_a @ z\n",
        "        scores.append(score)\n",
        "    return np.array(scores)\n",
        "\n",
        "e_t = compute_attention_scores(H, s_t, W1, W2, v_a)\n",
        "alpha_t = np.exp(e_t) / np.sum(np.exp(e_t))\n",
        "\n",
        "# Visualize attention weights\n",
        "plt.figure(figsize=(6, 2))\n",
        "sns.heatmap([alpha_t], annot=True, cmap=\"YlGnBu\", xticklabels=[\"h1\", \"h2\", \"h3\"])\n",
        "plt.title(\"Attention Weights (α)\")\n",
        "plt.xlabel(\"Encoder Time Step\")\n",
        "plt.ylabel(\"Decoder Step t\")\n",
        "plt.show()\n",
        "\n",
        "# Compute context vector\n",
        "c_t = alpha_t @ H\n",
        "print(\"Context Vector c_t:\", c_t)\n"
      ]
    },
    {
      "cell_type": "markdown",
      "source": [
        "## 🔷 Dot Product Attention\n",
        "\n",
        "Simpler than additive attention:\n",
        "\n",
        "\\[\n",
        "$e_{ti} = s_t \\cdot h_i^\\top\n",
        "\\quad\\quad\n",
        "\\alpha_{ti} = \\text{softmax}(e_t)\n",
        "\\quad\\quad\n",
        "c_t = \\sum_i \\alpha_{ti} h_i $\n",
        "\\]\n"
      ],
      "metadata": {
        "id": "w_K3ZPZ2bDSt"
      }
    },
    {
      "cell_type": "code",
      "source": [
        "# Dot product attention\n",
        "e_dot = H @ s_t  # (3,)\n",
        "alpha_dot = np.exp(e_dot) / np.sum(np.exp(e_dot))\n",
        "\n",
        "# Visualization\n",
        "plt.figure(figsize=(6, 2))\n",
        "sns.heatmap([alpha_dot], annot=True, cmap=\"OrRd\", xticklabels=[\"h1\", \"h2\", \"h3\"])\n",
        "plt.title(\"Dot Product Attention Weights\")\n",
        "plt.xlabel(\"Encoder Time Step\")\n",
        "plt.ylabel(\"Decoder Step t\")\n",
        "plt.show()\n",
        "\n",
        "# Context vector\n",
        "c_dot = alpha_dot @ H\n",
        "print(\"Dot Product Context Vector:\", c_dot)\n"
      ],
      "metadata": {
        "colab": {
          "base_uri": "https://localhost:8080/",
          "height": 274
        },
        "id": "osf-DIpOazet",
        "outputId": "03194896-8491-4312-9769-e2bd9828554f"
      },
      "execution_count": 2,
      "outputs": [
        {
          "output_type": "display_data",
          "data": {
            "text/plain": [
              "<Figure size 600x200 with 2 Axes>"
            ],
            "image/png": "[encoded data removed]"
          },
          "metadata": {}
        },
        {
          "output_type": "stream",
          "name": "stdout",
          "text": [
            "Dot Product Context Vector: [1.97114712 1.33149896]\n"
          ]
        }
      ]
    },
    {
      "cell_type": "markdown",
      "source": [
        "## 🔸 Hard Attention (Stochastic)\n",
        "\n",
        "Instead of a soft weighted sum, we sample one \\( h_i \\) based on the distribution \\( \\alpha_t \\):\n",
        "\n",
        "\\[\n",
        "$i^* \\sim \\text{Categorical}(\\alpha_t), \\quad c_t = h_{i^*}$\n",
        "\\]\n"
      ],
      "metadata": {
        "id": "mDiigh4FbUhM"
      }
    },
    {
      "cell_type": "code",
      "source": [
        "# Sample from soft attention weights\n",
        "np.random.seed(42)\n",
        "i_star = np.random.choice([0, 1, 2], p=alpha_t)\n",
        "c_hard = H[i_star]\n",
        "\n",
        "print(f\"Sampled index: {i_star} (h_{i_star+1})\")\n",
        "print(\"Hard Attention Context Vector:\", c_hard)\n"
      ],
      "metadata": {
        "colab": {
          "base_uri": "https://localhost:8080/"
        },
        "id": "Tpcgc9qFbYw0",
        "outputId": "0a60177c-a11c-4334-bcdd-89b3514fd6e9"
      },
      "execution_count": 3,
      "outputs": [
        {
          "output_type": "stream",
          "name": "stdout",
          "text": [
            "Sampled index: 1 (h_2)\n",
            "Hard Attention Context Vector: [0 1]\n"
          ]
        }
      ]
    },
    {
      "cell_type": "code",
      "source": [
        "from ipywidgets import interact, FloatSlider\n",
        "\n",
        "def explore_attention(s1=0.5, s2=0.5):\n",
        "    s_t = np.array([s1, s2])\n",
        "    e = compute_attention_scores(H, s_t, W1, W2, v_a)\n",
        "    alpha = np.exp(e) / np.sum(np.exp(e))\n",
        "\n",
        "    plt.figure(figsize=(6, 2))\n",
        "    sns.heatmap([alpha], annot=True, cmap=\"coolwarm\", xticklabels=[\"h1\", \"h2\", \"h3\"])\n",
        "    plt.title(f\"Attention Weights for s_t = [{s1:.2f}, {s2:.2f}]\")\n",
        "    plt.xlabel(\"Encoder Time Step\")\n",
        "    plt.show()\n",
        "\n",
        "    c = alpha @ H\n",
        "    print(\"Context Vector:\", c)\n",
        "\n",
        "interact(\n",
        "    explore_attention,\n",
        "    s1=FloatSlider(value=0, min=-2, max=2, step=0.1),\n",
        "    s2=FloatSlider(value=0, min=-2, max=2, step=0.1)\n",
        ");"
      ],
      "metadata": {
        "colab": {
          "base_uri": "https://localhost:8080/",
          "height": 338,
          "referenced_widgets": [
            "6bbcb3a6988f44cb8ea1d419173849c3",
            "b1466b35709946eaba5a5af4831829ab",
            "0201ca3ab0aa41109ff1d6f89d3f9840",
            "2b3c65004ef14360bb82f876af9d6052",
            "8db7525484f847e2924d51058fdece27",
            "640806760bac446f85d1cd9ea1371c5b",
            "2ea375307bd244c7ad8cc56004871875",
            "9fa09822a1d746579ebb2fab02c499b0",
            "e5c702a5dfba49f6a9aff05cabf560b9",
            "81851102143f406188709af7497586ba"
          ]
        },
        "id": "vuR7H25WbcxF",
        "outputId": "5c3a6261-b02e-4c65-b428-48a744f5284f"
      },
      "execution_count": 5,
      "outputs": [
        {
          "output_type": "display_data",
          "data": {
            "text/plain": [
              "interactive(children=(FloatSlider(value=0.0, description='s1', max=2.0, min=-2.0), FloatSlider(value=0.0, desc…"
            ],
            "application/vnd.jupyter.widget-view+json": {
              "version_major": 2,
              "version_minor": 0,
              "model_id": "6bbcb3a6988f44cb8ea1d419173849c3"
            }
          },
          "metadata": {}
        }
      ]
    },
    {
      "cell_type": "code",
      "source": [
        "import numpy as np\n",
        "import matplotlib.pyplot as plt\n",
        "import seaborn as sns\n",
        "from ipywidgets import interact, FloatSlider, Dropdown\n",
        "\n",
        "# Encoder hidden states\n",
        "H = np.array([\n",
        "    [1, 2],\n",
        "    [0, 1],\n",
        "    [3, 1]\n",
        "])\n",
        "\n",
        "# Attention parameters\n",
        "W1 = np.array([[1, 0], [0, 1]])\n",
        "W2 = np.array([[1, 1], [0, 1]])\n",
        "v_a = np.array([1, -1])\n",
        "\n",
        "def compute_soft_attention(H, s_t):\n",
        "    scores = []\n",
        "    for h_i in H:\n",
        "        z = np.tanh(W1 @ h_i + W2 @ s_t)\n",
        "        score = v_a @ z\n",
        "        scores.append(score)\n",
        "    e_t = np.array(scores)\n",
        "    alpha = np.exp(e_t) / np.sum(np.exp(e_t))\n",
        "    c_t = alpha @ H\n",
        "    return alpha, c_t\n",
        "\n",
        "def compute_dot_attention(H, s_t):\n",
        "    e_t = H @ s_t\n",
        "    alpha = np.exp(e_t) / np.sum(np.exp(e_t))\n",
        "    c_t = alpha @ H\n",
        "    return alpha, c_t\n",
        "\n",
        "def compute_hard_attention(H, s_t):\n",
        "    alpha, _ = compute_soft_attention(H, s_t)  # use soft for sampling\n",
        "    idx = np.random.choice(len(H), p=alpha)\n",
        "    alpha_one_hot = np.zeros_like(alpha)\n",
        "    alpha_one_hot[idx] = 1.0\n",
        "    c_t = H[idx]\n",
        "    return alpha_one_hot, c_t\n",
        "\n",
        "def explore_attention(s1, s2, attention_type):\n",
        "    s_t = np.array([s1, s2])\n",
        "\n",
        "    if attention_type == 'Soft':\n",
        "        alpha, c_t = compute_soft_attention(H, s_t)\n",
        "    elif attention_type == 'Dot Product':\n",
        "        alpha, c_t = compute_dot_attention(H, s_t)\n",
        "    elif attention_type == 'Hard':\n",
        "        alpha, c_t = compute_hard_attention(H, s_t)\n",
        "\n",
        "    # Visualization\n",
        "    plt.figure(figsize=(6, 2))\n",
        "    sns.heatmap([alpha], annot=True, cmap=\"YlGnBu\", xticklabels=[\"h1\", \"h2\", \"h3\"])\n",
        "    plt.title(f\"{attention_type} Attention Weights\")\n",
        "    plt.xlabel(\"Encoder Time Step\")\n",
        "    plt.ylabel(\"Decoder Step t\")\n",
        "    plt.show()\n",
        "\n",
        "    print(f\"Context Vector (c_t): {c_t}\")\n",
        "\n",
        "# Create interactive widget\n",
        "interact(\n",
        "    explore_attention,\n",
        "    s1=FloatSlider(value=0, min=-2, max=2, step=0.1),\n",
        "    s2=FloatSlider(value=0, min=-2, max=2, step=0.1),\n",
        "    attention_type=Dropdown(options=['Soft', 'Dot Product', 'Hard'], value='Soft')\n",
        ");\n"
      ],
      "metadata": {
        "colab": {
          "base_uri": "https://localhost:8080/",
          "height": 370,
          "referenced_widgets": [
            "fa10645a655a41fa8592476e463f03b0",
            "8fd781028f5f402bace0125214515828",
            "383f3aafe9844e598d98b1df884cc44d",
            "281b3cd9a76444bf80fd319f3fb4f2f1",
            "a9a242caf4bf49788b3cd5cccb1839f1",
            "fb5faa9f77bc4d3ba9b9ab73724d693c",
            "c261541a39d64d3ba0609444f2d52d48",
            "fa69ed43aa814be5bda30a1c0993c303",
            "13947f56af5e41e2af7fbc17ad5ef2e8",
            "20078d21330c47cc928f9812be9b18bf",
            "51e4220bf80c432bb4fc17f9f1820bb5",
            "a1b1a49b8ba844d9a967430e93c019bc",
            "45a3fd9928e0461694bcb9eda7b98795"
          ]
        },
        "id": "OcKTUq5WcnOp",
        "outputId": "8f1fddf9-1a0a-453b-8d47-66dedfdffbcd"
      },
      "execution_count": 6,
      "outputs": [
        {
          "output_type": "display_data",
          "data": {
            "text/plain": [
              "interactive(children=(FloatSlider(value=0.0, description='s1', max=2.0, min=-2.0), FloatSlider(value=0.0, desc…"
            ],
            "application/vnd.jupyter.widget-view+json": {
              "version_major": 2,
              "version_minor": 0,
              "model_id": "fa10645a655a41fa8592476e463f03b0"
            }
          },
          "metadata": {}
        }
      ]
    }
  ]
}